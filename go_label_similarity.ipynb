{
 "cells": [
  {
   "cell_type": "code",
   "execution_count": 1,
   "metadata": {},
   "outputs": [],
   "source": [
    "from GOlabels.scripts import labels\n",
    "from GOlabels.scripts import hierarchyModule\n",
    "from GOlabels.scripts import associationModule"
   ]
  },
  {
   "cell_type": "markdown",
   "metadata": {},
   "source": [
    "## Playing with the GO labels scripts from r/BCB\n",
    "They are very straight forward and easy to use. I just need to convert the MU\n",
    "dataset into the correct format to be processed."
   ]
  },
  {
   "cell_type": "code",
   "execution_count": 2,
   "metadata": {},
   "outputs": [],
   "source": [
    "hm = hierarchyModule.hierarchyModule(\"GOlabels/data/ontology/go-basic.obo\", 0)"
   ]
  },
  {
   "cell_type": "code",
   "execution_count": 3,
   "metadata": {},
   "outputs": [],
   "source": [
    "am = associationModule.associationModule(\"GOlabels/data/associations/ensembl_peptide_id.associations\")"
   ]
  },
  {
   "cell_type": "code",
   "execution_count": 4,
   "metadata": {},
   "outputs": [],
   "source": [
    "testGene = am.labeledGenes[0]"
   ]
  },
  {
   "cell_type": "code",
   "execution_count": 5,
   "metadata": {},
   "outputs": [
    {
     "data": {
      "text/plain": [
       "'ENSP00000420919'"
      ]
     },
     "execution_count": 5,
     "metadata": {},
     "output_type": "execute_result"
    }
   ],
   "source": [
    "testGene"
   ]
  },
  {
   "cell_type": "code",
   "execution_count": 6,
   "metadata": {},
   "outputs": [],
   "source": [
    "testLabel = list(am.labels(testGene))[0]"
   ]
  },
  {
   "cell_type": "code",
   "execution_count": 7,
   "metadata": {},
   "outputs": [
    {
     "data": {
      "text/plain": [
       "'GO:0044459'"
      ]
     },
     "execution_count": 7,
     "metadata": {},
     "output_type": "execute_result"
    }
   ],
   "source": [
    "testLabel"
   ]
  },
  {
   "cell_type": "code",
   "execution_count": 8,
   "metadata": {},
   "outputs": [
    {
     "data": {
      "text/plain": [
       "'GO:0009987'"
      ]
     },
     "execution_count": 8,
     "metadata": {},
     "output_type": "execute_result"
    }
   ],
   "source": [
    "hm.translate('GO:0009987')"
   ]
  },
  {
   "cell_type": "code",
   "execution_count": 9,
   "metadata": {},
   "outputs": [
    {
     "data": {
      "text/plain": [
       "1"
      ]
     },
     "execution_count": 9,
     "metadata": {},
     "output_type": "execute_result"
    }
   ],
   "source": [
    "hm.levelOf('GO:0009987')"
   ]
  },
  {
   "cell_type": "markdown",
   "metadata": {},
   "source": [
    "## Re-formatting the MU dataset"
   ]
  },
  {
   "cell_type": "code",
   "execution_count": 2,
   "metadata": {},
   "outputs": [],
   "source": [
    "fp_gene_list = \"data/networks/human/human_string_genes.txt\"\n",
    "file_gene_list = open(fp_gene_list, 'r')\n",
    "\n",
    "# reads in the list of string genes\n",
    "string_genes = []\n",
    "for gene_line in file_gene_list.readlines():\n",
    "    gene = gene_line.split()[0]\n",
    "    string_genes.append(gene)\n",
    "file_gene_list.close()"
   ]
  },
  {
   "cell_type": "code",
   "execution_count": 29,
   "metadata": {},
   "outputs": [],
   "source": [
    "# we need the map because the go and string indexing is not consistent.\n",
    "idx = 1\n",
    "string_map = {}\n",
    "for gene in string_genes:\n",
    "    string_map[gene] = idx\n",
    "    idx += 1"
   ]
  },
  {
   "cell_type": "code",
   "execution_count": 3,
   "metadata": {},
   "outputs": [
    {
     "data": {
      "text/plain": [
       "18362"
      ]
     },
     "execution_count": 3,
     "metadata": {},
     "output_type": "execute_result"
    }
   ],
   "source": [
    "len(string_genes)"
   ]
  },
  {
   "cell_type": "code",
   "execution_count": null,
   "metadata": {},
   "outputs": [],
   "source": []
  },
  {
   "cell_type": "code",
   "execution_count": 4,
   "metadata": {},
   "outputs": [],
   "source": [
    "fp_gogene_list = \"data/annotations/human/go_human_ref_genes.txt\"\n",
    "file_gogene_list = open(fp_gogene_list, 'r')\n",
    "\n",
    "# reads the list of GO genes in\n",
    "go_genes = []\n",
    "for gene_line in file_gogene_list.readlines():\n",
    "    gene = gene_line.split()[0]\n",
    "    go_genes.append(gene)\n",
    "file_gogene_list.close()"
   ]
  },
  {
   "cell_type": "code",
   "execution_count": null,
   "metadata": {},
   "outputs": [],
   "source": []
  },
  {
   "cell_type": "code",
   "execution_count": 7,
   "metadata": {},
   "outputs": [
    {
     "name": "stdout",
     "output_type": "stream",
     "text": [
      "11723\n"
     ]
    }
   ],
   "source": [
    "filt = set()\n",
    "for i in range(len(string_genes)):\n",
    "    gene = string_genes[i]\n",
    "    if gene in go_genes:\n",
    "        filt.add(gene)"
   ]
  },
  {
   "cell_type": "code",
   "execution_count": 8,
   "metadata": {},
   "outputs": [],
   "source": [
    "# reads in the list of GO terms being used\n",
    "fp_go_term_list = \"data/annotations/human/go_human_ref_bp_terms.txt\"\n",
    "file_go_term_list = open(fp_go_term_list, 'r')\n",
    "\n",
    "# reads in the list of GO terms\n",
    "go_terms = []\n",
    "for term_line in file_go_term_list.readlines():\n",
    "    term = term_line.split()[0]\n",
    "    go_terms.append(term)\n",
    "file_go_term_list.close()"
   ]
  },
  {
   "cell_type": "code",
   "execution_count": 9,
   "metadata": {},
   "outputs": [],
   "source": [
    "# creates dict with the gene indices as keys and the list of their go term indices as values\n",
    "fp_go_adj = \"data/annotations/human/go_human_ref_bp_adjacency.txt\"\n",
    "file_go_adj = open(fp_go_adj, 'r')\n",
    "\n",
    "gene_anno = {}\n",
    "for i in range(len(go_genes)):\n",
    "    gene_anno[i+1] = {'orig': []}\n",
    "\n",
    "for map_line in file_go_adj.readlines():\n",
    "    [gene_index, term_index] = map_line.split()\n",
    "    gene_index = int(gene_index)\n",
    "    term_index = int(term_index)\n",
    "\n",
    "    # uses the gene indices\n",
    "    gene_anno[gene_index]['orig'] += [term_index]\n",
    "\n",
    "file_go_adj.close()"
   ]
  },
  {
   "cell_type": "code",
   "execution_count": 10,
   "metadata": {},
   "outputs": [],
   "source": [
    "# map from index back to original gene name\n",
    "gene_map = {}\n",
    "for i in range(len(go_genes)):\n",
    "    gene = go_genes[i]\n",
    "    gene_map[gene] = i + 1"
   ]
  },
  {
   "cell_type": "code",
   "execution_count": 11,
   "metadata": {},
   "outputs": [],
   "source": [
    "# reads in the mapping from go terms to their indices\n",
    "fp_go_term_map = \"data/annotations/human/graph/go_bp.map\"\n",
    "file_go_term_map = open(fp_go_term_map, 'r')\n",
    "\n",
    "go_term_map = [None]\n",
    "for map_line in file_go_term_map.readlines():\n",
    "    [term, index] = map_line.split()\n",
    "    index = int(index)\n",
    "    \n",
    "    # the index is sequential and this means we've seen it before\n",
    "    if len(go_term_map) == index + 1:\n",
    "        go_term_map[index] += [term]\n",
    "    # this means its the first occurrence\n",
    "    else:\n",
    "        go_term_map += [[term]]\n",
    "        \n",
    "\n",
    "file_go_term_map.close()"
   ]
  },
  {
   "cell_type": "code",
   "execution_count": 12,
   "metadata": {},
   "outputs": [],
   "source": [
    "# creates a DAG of the GO terms\n",
    "fp_go_links = \"data/annotations/human/graph/go_bp.links\"\n",
    "file_go_links = open(fp_go_links, 'r')\n",
    "\n",
    "index_tree = {}\n",
    "for link_line in file_go_links.readlines():\n",
    "    [parent_index, child_index] = link_line.split()\n",
    "    parent_index = int(parent_index)\n",
    "    child_index = int(child_index)\n",
    "\n",
    "    if not parent_index in index_tree:\n",
    "        index_tree[parent_index] = {'parents':[], 'children':[]}\n",
    "    if not child_index in index_tree:\n",
    "        index_tree[child_index] = {'parents':[], 'children':[]}\n",
    "    index_tree[parent_index]['children'].append(child_index)\n",
    "    index_tree[child_index]['parents'].append(parent_index)\n",
    "\n",
    "file_go_links.close()"
   ]
  },
  {
   "cell_type": "code",
   "execution_count": 13,
   "metadata": {},
   "outputs": [],
   "source": [
    "# find all the terms which have no parents and are therefore the root terms\n",
    "roots = []\n",
    "for index in index_tree:\n",
    "    if len(index_tree[index]['parents']) == 0:\n",
    "        roots.append(index)"
   ]
  },
  {
   "cell_type": "code",
   "execution_count": 14,
   "metadata": {},
   "outputs": [],
   "source": [
    "# computing term depths\n",
    "\n",
    "#preparing all nodes with auxillary fields\n",
    "for index in index_tree:\n",
    "    index_node = index_tree[index]\n",
    "    index_node['visited'] = False\n",
    "    index_node['level'] = 0 # indicates unknown\n",
    "\n",
    "#preparing root nodes\n",
    "queue = roots + []\n",
    "for index in queue:\n",
    "    index_node = index_tree[index]\n",
    "    index_node['level'] = 1\n",
    "    index_node['visited'] = True\n",
    "\n",
    "while len(queue) > 0:\n",
    "    parent_index = queue.pop(0)\n",
    "    parent_node = index_tree[parent_index]\n",
    "    \n",
    "    child_indices = parent_node['children']\n",
    "    for child_index in child_indices:\n",
    "        child_node = index_tree[child_index]\n",
    "        if child_node['visited']:\n",
    "            continue\n",
    "        else:\n",
    "            child_node['visited'] = True\n",
    "            child_node['level'] = parent_node['level'] + 1\n",
    "            queue.append(child_index)"
   ]
  },
  {
   "cell_type": "code",
   "execution_count": 15,
   "metadata": {},
   "outputs": [],
   "source": [
    "max_level = 0\n",
    "for index in index_tree:\n",
    "    level = index_tree[index]['level']\n",
    "    max_level = max(level, max_level)"
   ]
  },
  {
   "cell_type": "code",
   "execution_count": 16,
   "metadata": {},
   "outputs": [],
   "source": [
    "level_counts = [0] * max_level\n",
    "for index in index_tree:\n",
    "    level = index_tree[index]['level']\n",
    "    level_counts[level - 1] += 1"
   ]
  },
  {
   "cell_type": "code",
   "execution_count": 17,
   "metadata": {},
   "outputs": [
    {
     "data": {
      "text/plain": [
       "[1, 22, 154, 1897, 4877, 7543, 6625, 4369, 1694, 515, 125, 31]"
      ]
     },
     "execution_count": 17,
     "metadata": {},
     "output_type": "execute_result"
    }
   ],
   "source": [
    "level_counts"
   ]
  },
  {
   "cell_type": "code",
   "execution_count": 18,
   "metadata": {},
   "outputs": [],
   "source": [
    "# associates each term index with all its ancestors\n",
    "\n",
    "#prepares each tree node\n",
    "for index in index_tree:\n",
    "    index_node = index_tree[index]\n",
    "    index_node['ancestors'] = {index}\n",
    "\n",
    "for i in range(max_level):\n",
    "    # go level by level pushing down ancestors\n",
    "    cur_level = i + 1\n",
    "    \n",
    "    for index in index_tree:\n",
    "        index_node = index_tree[index]\n",
    "        \n",
    "        # only look at nodes on the right level\n",
    "        if index_node['level'] != cur_level:\n",
    "            continue\n",
    "        \n",
    "        parents = index_node['parents']\n",
    "        # grabs all the parents' ancestors (list of sets)\n",
    "        ancestors = list(map(lambda pidx: index_tree[pidx]['ancestors'], parents))\n",
    "        # unions over all parent ancestors + self (* unpacks the list of sets)\n",
    "        index_node['ancestors'] = index_node['ancestors'].union(*ancestors)"
   ]
  },
  {
   "cell_type": "code",
   "execution_count": 19,
   "metadata": {},
   "outputs": [],
   "source": [
    "# associates each gene index with all its ancestors\n",
    "for gene_index in gene_anno:\n",
    "    gene_node = gene_anno[gene_index]\n",
    "    gene_node['comp'] = set().union(*list(map(lambda idx: index_tree[idx]['ancestors'], gene_node['orig'])))"
   ]
  },
  {
   "cell_type": "code",
   "execution_count": 20,
   "metadata": {},
   "outputs": [],
   "source": [
    "# associates each term index with all genes indices that have it\n",
    "\n",
    "# prepares each term index\n",
    "for index in index_tree:\n",
    "    index_node = index_tree[index]\n",
    "    index_node['gene_inds'] = []\n",
    "    \n",
    "# go over each gene and append it to the indices\n",
    "for gene_index in gene_anno:\n",
    "    term_indices = list(gene_anno[gene_index]['comp'])\n",
    "    list(map(lambda tidx: index_tree[tidx]['gene_inds'].append(gene_index), term_indices))"
   ]
  },
  {
   "cell_type": "markdown",
   "metadata": {},
   "source": [
    "## Creating matchings at different levels of GO"
   ]
  },
  {
   "cell_type": "code",
   "execution_count": 37,
   "metadata": {},
   "outputs": [],
   "source": [
    "# used to track the matchings we've seen on any level\n",
    "total_matchings = set()\n",
    "\n",
    "# tracks the matchings at every level (but only the highest level)\n",
    "matchings = []\n",
    "# can't do multiplication of lists because each entry references the same set\n",
    "for i in range(max_level):\n",
    "    matchings.append(set())"
   ]
  },
  {
   "cell_type": "code",
   "execution_count": 45,
   "metadata": {},
   "outputs": [],
   "source": [
    "# doing this by hand instead of a loop since some levels are too big\n",
    "working_level = max_level - 7\n",
    "\n",
    "for index in index_tree:\n",
    "    index_node = index_tree[index]\n",
    "    \n",
    "    if index_node['level'] != working_level:\n",
    "        continue\n",
    "    \n",
    "    gene_inds = index_node['gene_inds']\n",
    "    for gene_index1 in gene_inds:\n",
    "        for gene_index2 in gene_inds:\n",
    "            if gene_index1 == gene_index2:\n",
    "                continue\n",
    "            key = f'{gene_index1}-{gene_index2}'\n",
    "            if not key in total_matchings:\n",
    "                matchings[working_level - 1].add(key)\n",
    "                total_matchings.add(key)"
   ]
  },
  {
   "cell_type": "code",
   "execution_count": 53,
   "metadata": {},
   "outputs": [],
   "source": [
    "# again doing this by hand on the levels that we did\n",
    "location = 'GO_links'\n",
    "level = 5\n",
    "\n",
    "file_index = open(f'{location}/level-{level}-index.txt','w')\n",
    "file_gene = open(f'{location}/level-{level}-gene.txt','w')\n",
    "\n",
    "for pair in matchings[level - 1]:\n",
    "    [index1, index2] = pair.split('-')\n",
    "    index1 = int(index1)\n",
    "    index2 = int(index2)\n",
    "    \n",
    "    gene1 = go_genes[index1]\n",
    "    gene2 = go_genes[index2]\n",
    "    \n",
    "    if gene1 in filt and gene2 in filt:\n",
    "        adj1 = string_map[gene1]\n",
    "        adj2 = string_map[gene2]\n",
    "        file_index.write(f'{adj1}\\t{adj2}\\n')\n",
    "        file_gene.write(f'{gene1}\\t{gene2}\\n')\n",
    "    \n",
    "file_index.close()\n",
    "file_gene.close()"
   ]
  },
  {
   "cell_type": "code",
   "execution_count": 54,
   "metadata": {},
   "outputs": [],
   "source": [
    "# writes everything into two big files with the level as a third value\n",
    "\n",
    "location = 'GO_links'\n",
    "min_level = 5\n",
    "\n",
    "file_index = open(f'{location}/total-index.txt','w')\n",
    "file_gene = open(f'{location}/total-gene.txt','w')\n",
    "\n",
    "min_level = 5\n",
    "for level in range(min_level - 1, max_level):\n",
    "    matching = matchings[level]\n",
    "    for pair in matching:\n",
    "        [index1, index2] = pair.split('-')\n",
    "        index1 = int(index1)\n",
    "        index2 = int(index2)\n",
    "\n",
    "        gene1 = go_genes[index1]\n",
    "        gene2 = go_genes[index2]\n",
    "\n",
    "        if gene1 in filt and gene2 in filt:\n",
    "            adj1 = string_map[gene1]\n",
    "            adj2 = string_map[gene2]\n",
    "            file_index.write(f'{adj1}\\t{adj2}\\t{level+1}\\n')\n",
    "            file_gene.write(f'{gene1}\\t{gene2}\\t{level+1}\\n')\n",
    "        \n",
    "file_index.close()\n",
    "file_gene.close()"
   ]
  },
  {
   "cell_type": "code",
   "execution_count": null,
   "metadata": {},
   "outputs": [],
   "source": []
  },
  {
   "cell_type": "code",
   "execution_count": null,
   "metadata": {},
   "outputs": [],
   "source": []
  },
  {
   "cell_type": "code",
   "execution_count": null,
   "metadata": {},
   "outputs": [],
   "source": []
  },
  {
   "cell_type": "code",
   "execution_count": 1,
   "metadata": {},
   "outputs": [
    {
     "name": "stdout",
     "output_type": "stream",
     "text": [
      "10\n",
      "9\n",
      "8\n",
      "7\n",
      "6\n",
      "5\n",
      "4\n"
     ]
    }
   ],
   "source": [
    "for i in range(10,3,-1):\n",
    "    print(i)"
   ]
  },
  {
   "cell_type": "code",
   "execution_count": null,
   "metadata": {},
   "outputs": [],
   "source": []
  }
 ],
 "metadata": {
  "kernelspec": {
   "display_name": "Python 3",
   "language": "python",
   "name": "python3"
  },
  "language_info": {
   "codemirror_mode": {
    "name": "ipython",
    "version": 3
   },
   "file_extension": ".py",
   "mimetype": "text/x-python",
   "name": "python",
   "nbconvert_exporter": "python",
   "pygments_lexer": "ipython3",
   "version": "3.7.8"
  }
 },
 "nbformat": 4,
 "nbformat_minor": 4
}
