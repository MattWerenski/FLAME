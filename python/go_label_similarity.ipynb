{
 "cells": [
  {
   "cell_type": "code",
   "execution_count": 1,
   "metadata": {},
   "outputs": [],
   "source": [
    "from GOlabels.scripts import labels\n",
    "from GOlabels.scripts import hierarchyModule\n",
    "from GOlabels.scripts import associationModule"
   ]
  },
  {
   "cell_type": "markdown",
   "metadata": {},
   "source": [
    "## Playing with the GO labels scripts from r/BCB\n",
    "They are very straight forward and easy to use. I just need to convert the MU\n",
    "dataset into the correct format to be processed."
   ]
  },
  {
   "cell_type": "code",
   "execution_count": 2,
   "metadata": {},
   "outputs": [],
   "source": [
    "hm = hierarchyModule.hierarchyModule(\"GOlabels/data/ontology/go-basic.obo\", 0)"
   ]
  },
  {
   "cell_type": "code",
   "execution_count": 3,
   "metadata": {},
   "outputs": [],
   "source": [
    "am = associationModule.associationModule(\"GOlabels/data/associations/ensembl_peptide_id.associations\")"
   ]
  },
  {
   "cell_type": "code",
   "execution_count": 4,
   "metadata": {},
   "outputs": [],
   "source": [
    "testGene = am.labeledGenes[0]"
   ]
  },
  {
   "cell_type": "code",
   "execution_count": 5,
   "metadata": {},
   "outputs": [
    {
     "data": {
      "text/plain": [
       "'ENSP00000420919'"
      ]
     },
     "execution_count": 5,
     "metadata": {},
     "output_type": "execute_result"
    }
   ],
   "source": [
    "testGene"
   ]
  },
  {
   "cell_type": "code",
   "execution_count": 6,
   "metadata": {},
   "outputs": [],
   "source": [
    "testLabel = list(am.labels(testGene))[0]"
   ]
  },
  {
   "cell_type": "code",
   "execution_count": 7,
   "metadata": {},
   "outputs": [
    {
     "data": {
      "text/plain": [
       "'GO:0044459'"
      ]
     },
     "execution_count": 7,
     "metadata": {},
     "output_type": "execute_result"
    }
   ],
   "source": [
    "testLabel"
   ]
  },
  {
   "cell_type": "code",
   "execution_count": 8,
   "metadata": {},
   "outputs": [
    {
     "data": {
      "text/plain": [
       "'GO:0009987'"
      ]
     },
     "execution_count": 8,
     "metadata": {},
     "output_type": "execute_result"
    }
   ],
   "source": [
    "hm.translate('GO:0009987')"
   ]
  },
  {
   "cell_type": "code",
   "execution_count": 9,
   "metadata": {},
   "outputs": [
    {
     "data": {
      "text/plain": [
       "1"
      ]
     },
     "execution_count": 9,
     "metadata": {},
     "output_type": "execute_result"
    }
   ],
   "source": [
    "hm.levelOf('GO:0009987')"
   ]
  },
  {
   "cell_type": "markdown",
   "metadata": {},
   "source": [
    "## Re-formatting the MU dataset"
   ]
  },
  {
   "cell_type": "code",
   "execution_count": 1,
   "metadata": {},
   "outputs": [],
   "source": [
    "fp_gene_list = \"../data/networks/yeast/yeast_string_genes.txt\"\n",
    "file_gene_list = open(fp_gene_list, 'r')\n",
    "\n",
    "# reads in the list of string genes\n",
    "string_genes = []\n",
    "for gene_line in file_gene_list.readlines():\n",
    "    gene = gene_line.split()[0]\n",
    "    string_genes.append(gene)\n",
    "file_gene_list.close()"
   ]
  },
  {
   "cell_type": "code",
   "execution_count": 34,
   "metadata": {},
   "outputs": [
    {
     "data": {
      "text/plain": [
       "6400"
      ]
     },
     "execution_count": 34,
     "metadata": {},
     "output_type": "execute_result"
    }
   ],
   "source": [
    "len(string_genes)"
   ]
  },
  {
   "cell_type": "code",
   "execution_count": 2,
   "metadata": {},
   "outputs": [],
   "source": [
    "# we need the map because the go and string indexing is not consistent.\n",
    "idx = 1\n",
    "string_map = {}\n",
    "for gene in string_genes:\n",
    "    string_map[gene] = idx\n",
    "    idx += 1"
   ]
  },
  {
   "cell_type": "code",
   "execution_count": 35,
   "metadata": {},
   "outputs": [
    {
     "data": {
      "text/plain": [
       "6400"
      ]
     },
     "execution_count": 35,
     "metadata": {},
     "output_type": "execute_result"
    }
   ],
   "source": [
    "len(string_map)"
   ]
  },
  {
   "cell_type": "code",
   "execution_count": 3,
   "metadata": {},
   "outputs": [],
   "source": [
    "fp_gogene_list = \"../data/annotations/yeast/go_yeast_ref_genes.txt\"\n",
    "file_gogene_list = open(fp_gogene_list, 'r')\n",
    "\n",
    "# reads the list of GO genes in\n",
    "go_genes = []\n",
    "for gene_line in file_gogene_list.readlines():\n",
    "    gene = gene_line.split()[0]\n",
    "    go_genes.append(gene)\n",
    "file_gogene_list.close()"
   ]
  },
  {
   "cell_type": "code",
   "execution_count": 37,
   "metadata": {},
   "outputs": [
    {
     "data": {
      "text/plain": [
       "3571"
      ]
     },
     "execution_count": 37,
     "metadata": {},
     "output_type": "execute_result"
    }
   ],
   "source": [
    "len(go_genes)"
   ]
  },
  {
   "cell_type": "code",
   "execution_count": 38,
   "metadata": {},
   "outputs": [],
   "source": [
    "filt = set()\n",
    "for i in range(len(string_genes)):\n",
    "    gene = string_genes[i]\n",
    "    if gene in go_genes:\n",
    "        filt.add(gene)"
   ]
  },
  {
   "cell_type": "code",
   "execution_count": 5,
   "metadata": {},
   "outputs": [],
   "source": [
    "# reads in the list of GO terms being used\n",
    "fp_go_term_list = \"../data/annotations/yeast/go_yeast_ref_mf_terms.txt\"\n",
    "file_go_term_list = open(fp_go_term_list, 'r')\n",
    "\n",
    "# reads in the list of GO terms\n",
    "go_terms = []\n",
    "for term_line in file_go_term_list.readlines():\n",
    "    term = term_line.split()[0]\n",
    "    go_terms.append(term)\n",
    "file_go_term_list.close()"
   ]
  },
  {
   "cell_type": "code",
   "execution_count": 6,
   "metadata": {},
   "outputs": [],
   "source": [
    "# creates dict with the gene indices as keys and the list of their go term indices as values\n",
    "fp_go_adj = \"../data/annotations/yeast/go_yeast_ref_mf_adjacency.txt\"\n",
    "file_go_adj = open(fp_go_adj, 'r')\n",
    "\n",
    "gene_anno = {}\n",
    "for i in range(len(go_genes)):\n",
    "    gene_anno[i+1] = {'orig': []}\n",
    "\n",
    "for map_line in file_go_adj.readlines():\n",
    "    [gene_index, term_index] = map_line.split()\n",
    "    gene_index = int(gene_index)\n",
    "    term_index = int(term_index)\n",
    "\n",
    "    # uses the gene indices\n",
    "    gene_anno[gene_index]['orig'] += [term_index]\n",
    "\n",
    "file_go_adj.close()"
   ]
  },
  {
   "cell_type": "code",
   "execution_count": null,
   "metadata": {},
   "outputs": [],
   "source": []
  },
  {
   "cell_type": "code",
   "execution_count": 7,
   "metadata": {},
   "outputs": [],
   "source": [
    "# map from index back to original gene name\n",
    "gene_map = {}\n",
    "for i in range(len(go_genes)):\n",
    "    gene = go_genes[i]\n",
    "    gene_map[gene] = i + 1"
   ]
  },
  {
   "cell_type": "code",
   "execution_count": 8,
   "metadata": {},
   "outputs": [],
   "source": [
    "# reads in the mapping from go terms to their indices\n",
    "fp_go_term_map = \"../data/annotations/yeast/graph/go_mf.map\"\n",
    "file_go_term_map = open(fp_go_term_map, 'r')\n",
    "\n",
    "go_term_map = [None]\n",
    "go_term_reverse = {}\n",
    "for map_line in file_go_term_map.readlines():\n",
    "    [term, index] = map_line.split()\n",
    "    index = int(index)\n",
    "    \n",
    "    go_term_reverse[term] = index\n",
    "    \n",
    "    # the index is sequential and this means we've seen it before\n",
    "    if len(go_term_map) == index + 1:\n",
    "        go_term_map[index] += [term]\n",
    "    # this means its the first occurrence\n",
    "    else:\n",
    "        go_term_map += [[term]]\n",
    "        \n",
    "\n",
    "file_go_term_map.close()"
   ]
  },
  {
   "cell_type": "code",
   "execution_count": 9,
   "metadata": {},
   "outputs": [],
   "source": [
    "# creates a DAG of the GO terms\n",
    "fp_go_links = \"../data/annotations/yeast/graph/go_mf.links\"\n",
    "file_go_links = open(fp_go_links, 'r')\n",
    "\n",
    "index_tree = {}\n",
    "for link_line in file_go_links.readlines():\n",
    "    [parent_index, child_index] = link_line.split()\n",
    "    parent_index = int(parent_index)\n",
    "    child_index = int(child_index)\n",
    "\n",
    "    if not parent_index in index_tree:\n",
    "        index_tree[parent_index] = {'parents':[], 'children':[]}\n",
    "    if not child_index in index_tree:\n",
    "        index_tree[child_index] = {'parents':[], 'children':[]}\n",
    "    index_tree[parent_index]['children'].append(child_index)\n",
    "    index_tree[child_index]['parents'].append(parent_index)\n",
    "\n",
    "file_go_links.close()"
   ]
  },
  {
   "cell_type": "code",
   "execution_count": 10,
   "metadata": {},
   "outputs": [],
   "source": [
    "# find all the terms which have no parents and are therefore the root terms\n",
    "roots = []\n",
    "for index in index_tree:\n",
    "    if len(index_tree[index]['parents']) == 0:\n",
    "        roots.append(index)"
   ]
  },
  {
   "cell_type": "code",
   "execution_count": 11,
   "metadata": {},
   "outputs": [],
   "source": [
    "# computing term depths\n",
    "\n",
    "#preparing all nodes with auxillary fields\n",
    "for index in index_tree:\n",
    "    index_node = index_tree[index]\n",
    "    index_node['visited'] = False\n",
    "    index_node['level'] = 0 # indicates unknown\n",
    "\n",
    "#preparing root nodes\n",
    "queue = roots + []\n",
    "for index in queue:\n",
    "    index_node = index_tree[index]\n",
    "    index_node['level'] = 1\n",
    "    index_node['visited'] = True\n",
    "\n",
    "while len(queue) > 0:\n",
    "    parent_index = queue.pop(0)\n",
    "    parent_node = index_tree[parent_index]\n",
    "    \n",
    "    child_indices = parent_node['children']\n",
    "    for child_index in child_indices:\n",
    "        child_node = index_tree[child_index]\n",
    "        if child_node['visited']:\n",
    "            continue\n",
    "        else:\n",
    "            child_node['visited'] = True\n",
    "            child_node['level'] = parent_node['level'] + 1\n",
    "            queue.append(child_index)"
   ]
  },
  {
   "cell_type": "code",
   "execution_count": 12,
   "metadata": {},
   "outputs": [],
   "source": [
    "max_level = 0\n",
    "for index in index_tree:\n",
    "    level = index_tree[index]['level']\n",
    "    max_level = max(level, max_level)"
   ]
  },
  {
   "cell_type": "code",
   "execution_count": 13,
   "metadata": {},
   "outputs": [],
   "source": [
    "# associates each term index with all its ancestors\n",
    "\n",
    "#prepares each tree node\n",
    "for index in index_tree:\n",
    "    index_node = index_tree[index]\n",
    "    index_node['ancestors'] = {index}\n",
    "\n",
    "for i in range(max_level):\n",
    "    # go level by level pushing down ancestors\n",
    "    cur_level = i + 1\n",
    "    \n",
    "    for index in index_tree:\n",
    "        index_node = index_tree[index]\n",
    "        \n",
    "        # only look at nodes on the right level\n",
    "        if index_node['level'] != cur_level:\n",
    "            continue\n",
    "        \n",
    "        parents = index_node['parents']\n",
    "        # grabs all the parents' ancestors (list of sets)\n",
    "        ancestors = list(map(lambda pidx: index_tree[pidx]['ancestors'], parents))\n",
    "        # unions over all parent ancestors + self (* unpacks the list of sets)\n",
    "        index_node['ancestors'] = index_node['ancestors'].union(*ancestors)"
   ]
  },
  {
   "cell_type": "code",
   "execution_count": 14,
   "metadata": {},
   "outputs": [],
   "source": [
    "# associates each gene index with all its ancestors\n",
    "for gene_index in gene_anno:\n",
    "    gene_node = gene_anno[gene_index]\n",
    "    gene_node['comp'] = set().union(*list(map(lambda idx: index_tree[idx]['ancestors'], gene_node['orig'])))"
   ]
  },
  {
   "cell_type": "code",
   "execution_count": 15,
   "metadata": {},
   "outputs": [],
   "source": [
    "# associates each term index with all genes indices that have it\n",
    "\n",
    "# prepares each term index\n",
    "for index in index_tree:\n",
    "    index_node = index_tree[index]\n",
    "    index_node['gene_inds'] = []\n",
    "    \n",
    "# go over each gene and append it to the indices\n",
    "for gene_index in gene_anno:\n",
    "    term_indices = list(gene_anno[gene_index]['comp'])\n",
    "    list(map(lambda tidx: index_tree[tidx]['gene_inds'].append(gene_index), term_indices))"
   ]
  },
  {
   "cell_type": "code",
   "execution_count": null,
   "metadata": {},
   "outputs": [],
   "source": []
  },
  {
   "cell_type": "markdown",
   "metadata": {},
   "source": [
    "## Creating matchings at different levels of GO"
   ]
  },
  {
   "cell_type": "code",
   "execution_count": 17,
   "metadata": {},
   "outputs": [],
   "source": [
    "# used to track the matchings we've seen on any level\n",
    "total_matchings = set()\n",
    "\n",
    "# tracks the matchings at every level (but only the highest level)\n",
    "matchings = []\n",
    "# can't do multiplication of lists because each entry references the same set\n",
    "for i in range(max_level):\n",
    "    matchings.append(set())"
   ]
  },
  {
   "cell_type": "code",
   "execution_count": 25,
   "metadata": {},
   "outputs": [],
   "source": [
    "# doing this by hand instead of a loop since some levels are too big\n",
    "working_level = max_level - 7\n",
    "\n",
    "for index in index_tree:\n",
    "    index_node = index_tree[index]\n",
    "    \n",
    "    if index_node['level'] != working_level:\n",
    "        continue\n",
    "    \n",
    "    gene_inds = index_node['gene_inds']\n",
    "    for gene_index1 in gene_inds:\n",
    "        for gene_index2 in gene_inds:\n",
    "            if gene_index1 == gene_index2:\n",
    "                continue\n",
    "            key = f'{gene_index1}-{gene_index2}'\n",
    "            if not key in total_matchings:\n",
    "                matchings[working_level - 1].add(key)\n",
    "                total_matchings.add(key)"
   ]
  },
  {
   "cell_type": "code",
   "execution_count": null,
   "metadata": {},
   "outputs": [],
   "source": []
  },
  {
   "cell_type": "code",
   "execution_count": 53,
   "metadata": {},
   "outputs": [],
   "source": [
    "# again doing this by hand on the levels that we did\n",
    "location = 'GO_links'\n",
    "level = 5\n",
    "\n",
    "file_index = open(f'{location}/level-{level}-index.txt','w')\n",
    "file_gene = open(f'{location}/level-{level}-gene.txt','w')\n",
    "\n",
    "for pair in matchings[level - 1]:\n",
    "    [index1, index2] = pair.split('-')\n",
    "    index1 = int(index1)\n",
    "    index2 = int(index2)\n",
    "    \n",
    "    gene1 = go_genes[index1 - 1]\n",
    "    gene2 = go_genes[index2 - 1]\n",
    "    \n",
    "    if gene1 in filt and gene2 in filt:\n",
    "        adj1 = string_map[gene1]\n",
    "        adj2 = string_map[gene2]\n",
    "        file_index.write(f'{adj1}\\t{adj2}\\n')\n",
    "        file_gene.write(f'{gene1}\\t{gene2}\\n')\n",
    "    \n",
    "file_index.close()\n",
    "file_gene.close()"
   ]
  },
  {
   "cell_type": "code",
   "execution_count": 42,
   "metadata": {},
   "outputs": [],
   "source": [
    "# writes everything into two big files with the level as a third value\n",
    "\n",
    "location = '../data/annotations/yeast'\n",
    "min_level = 5\n",
    "\n",
    "file_index = open(f'{location}/total-index.txt','w')\n",
    "file_gene = open(f'{location}/total-gene.txt','w')\n",
    "\n",
    "min_level = 5\n",
    "for level in range(min_level - 1, max_level):\n",
    "    matching = matchings[level]\n",
    "    for pair in matching:\n",
    "        [index1, index2] = pair.split('-')\n",
    "        index1 = int(index1)\n",
    "        index2 = int(index2)\n",
    "\n",
    "        gene1 = go_genes[index1 - 1]\n",
    "        gene2 = go_genes[index2 - 1]\n",
    "\n",
    "        if gene1 in filt and gene2 in filt:\n",
    "            adj1 = string_map[gene1]\n",
    "            adj2 = string_map[gene2]\n",
    "            file_index.write(f'{adj1}\\t{adj2}\\t{level+1}\\n')\n",
    "            file_gene.write(f'{gene1}\\t{gene2}\\t{level+1}\\n')\n",
    "        \n",
    "file_index.close()\n",
    "file_gene.close()"
   ]
  },
  {
   "cell_type": "code",
   "execution_count": null,
   "metadata": {},
   "outputs": [],
   "source": []
  },
  {
   "cell_type": "code",
   "execution_count": null,
   "metadata": {},
   "outputs": [],
   "source": []
  },
  {
   "cell_type": "markdown",
   "metadata": {},
   "source": [
    "## Code for computing stats"
   ]
  },
  {
   "cell_type": "code",
   "execution_count": 16,
   "metadata": {},
   "outputs": [],
   "source": [
    "import numpy as np\n",
    "import matplotlib.pyplot as plt"
   ]
  },
  {
   "cell_type": "code",
   "execution_count": 17,
   "metadata": {},
   "outputs": [
    {
     "name": "stdout",
     "output_type": "stream",
     "text": [
      "[1, 18, 145, 693, 1756, 3898, 1912, 952, 402, 104, 58, 4]\n"
     ]
    }
   ],
   "source": [
    "level_counts = [0] * max_level\n",
    "for index in index_tree:\n",
    "    level = index_tree[index]['level']\n",
    "    level_counts[level - 1] += 1\n",
    "print(level_counts)"
   ]
  },
  {
   "cell_type": "code",
   "execution_count": 18,
   "metadata": {},
   "outputs": [
    {
     "name": "stdout",
     "output_type": "stream",
     "text": [
      "[1, 10, 41, 122, 172, 215, 140, 74, 40, 5, 0, 0]\n"
     ]
    }
   ],
   "source": [
    "threshold = 10\n",
    "level_tcounts = [0] * max_level\n",
    "for index in index_tree:\n",
    "    if len(index_tree[index]['gene_inds']) >= threshold:\n",
    "        level = index_tree[index]['level']\n",
    "        level_tcounts[level - 1] += 1\n",
    "print(level_tcounts)"
   ]
  },
  {
   "cell_type": "code",
   "execution_count": 19,
   "metadata": {},
   "outputs": [
    {
     "name": "stdout",
     "output_type": "stream",
     "text": [
      "10605\n"
     ]
    }
   ],
   "source": [
    "num_anno = 0\n",
    "for gene in gene_anno:\n",
    "    anno = gene_anno[gene]\n",
    "    if len(anno['orig']) > 0:\n",
    "        num_anno += 1\n",
    "print(num_anno)"
   ]
  },
  {
   "cell_type": "code",
   "execution_count": 20,
   "metadata": {},
   "outputs": [
    {
     "name": "stdout",
     "output_type": "stream",
     "text": [
      "[   0    0   24   58  135  784 6730  992 1429  449    4    0]\n"
     ]
    }
   ],
   "source": [
    "max_level_anno = np.zeros(max_level, dtype=int)\n",
    "for gene in gene_anno:\n",
    "    terms = gene_anno[gene]['comp']\n",
    "    if len(terms) == 0:\n",
    "        continue\n",
    "    max_term = 1\n",
    "    for t in terms:\n",
    "        level = index_tree[t]['level']\n",
    "        max_term = max(level, max_term)\n",
    "    max_level_anno[max_term - 1] += 1\n",
    "print(max_level_anno)"
   ]
  },
  {
   "cell_type": "code",
   "execution_count": 21,
   "metadata": {},
   "outputs": [
    {
     "name": "stdout",
     "output_type": "stream",
     "text": [
      "[   0    7   55  113  286  782 6843  841 1308  370    0    0]\n"
     ]
    }
   ],
   "source": [
    "threshold = 10\n",
    "max_level_tanno = np.zeros(max_level, dtype=int)\n",
    "for gene in gene_anno:\n",
    "    terms = gene_anno[gene]['comp']\n",
    "    if len(terms) == 0:\n",
    "        continue\n",
    "    max_term = 1\n",
    "    for t in terms:\n",
    "        level = index_tree[t]['level']\n",
    "        if len(index_tree[t]['gene_inds']) >= threshold:\n",
    "            max_term = max(level, max_term)\n",
    "    max_level_tanno[max_term - 1] += 1\n",
    "print(max_level_tanno)"
   ]
  },
  {
   "cell_type": "code",
   "execution_count": 22,
   "metadata": {},
   "outputs": [
    {
     "name": "stdout",
     "output_type": "stream",
     "text": [
      "795 8276\n"
     ]
    }
   ],
   "source": [
    "for index in index_tree:\n",
    "    level = index_tree[index]['level']\n",
    "    if level == 7:\n",
    "        num_genes = len(index_tree[index]['gene_inds'])\n",
    "        if num_genes > 5000:\n",
    "            print(index, num_genes)"
   ]
  },
  {
   "cell_type": "code",
   "execution_count": 23,
   "metadata": {},
   "outputs": [],
   "source": [
    "level_usages = []\n",
    "for i in range(max_level):\n",
    "    level_usages += [[]]\n",
    "for i in index_tree:\n",
    "    level = index_tree[i]['level']\n",
    "    num_genes = len(index_tree[i]['gene_inds'])\n",
    "    if num_genes >= 10:\n",
    "        level_usages[level - 1] += [num_genes]"
   ]
  },
  {
   "cell_type": "code",
   "execution_count": 24,
   "metadata": {},
   "outputs": [
    {
     "data": {
      "image/png": "[encoded data removed]",
      "text/plain": [
       "<Figure size 432x288 with 1 Axes>"
      ]
     },
     "metadata": {
      "needs_background": "light"
     },
     "output_type": "display_data"
    }
   ],
   "source": [
    "for i in range(1, max_level):\n",
    "    plt.clf()\n",
    "    plt.title(f'Term Uses in Level {i+1}')\n",
    "    plt.xlabel('Number of Uses')\n",
    "    plt.ylabel('Number of Terms')\n",
    "    plt.hist(level_usages[i], bins=40)\n",
    "    plt.savefig(f'figures/mf/level-{i+1}-uses.png')"
   ]
  },
  {
   "cell_type": "code",
   "execution_count": 24,
   "metadata": {},
   "outputs": [],
   "source": [
    "# curates the term indices that go above the threshold\n",
    "threshold = 10\n",
    "common_terms = []\n",
    "for i in index_tree:\n",
    "    term = index_tree[i]\n",
    "    if len(term['gene_inds']) >= threshold:\n",
    "        term['common'] = True\n",
    "        common_terms += [i]\n",
    "    else:\n",
    "        term['common'] = False"
   ]
  },
  {
   "cell_type": "code",
   "execution_count": 25,
   "metadata": {},
   "outputs": [],
   "source": [
    "# curates the term indices that go above the threshold\n",
    "lower_threshold = 10\n",
    "upper_threshold = 500\n",
    "useful_terms = []\n",
    "for i in index_tree:\n",
    "    term = index_tree[i]\n",
    "    n = len(term['gene_inds'])\n",
    "    if n >= lower_threshold and n <= upper_threshold:\n",
    "        term['useful'] = True\n",
    "        useful_terms += [i]\n",
    "    else:\n",
    "        term['useful'] = False"
   ]
  },
  {
   "cell_type": "code",
   "execution_count": 26,
   "metadata": {},
   "outputs": [],
   "source": [
    "samples = 1000\n",
    "jacs = np.zeros(samples)\n",
    "for i in range(samples):\n",
    "    t1 = common_terms[np.random.randint(0,len(common_terms))]\n",
    "    t2 = common_terms[np.random.randint(0,len(common_terms))]\n",
    "    g1s = set(index_tree[t1]['gene_inds'])\n",
    "    g2s = set(index_tree[t2]['gene_inds'])\n",
    "    union = g1s.union(g2s)\n",
    "    inter = g1s.intersection(g2s)\n",
    "    jacs[i] = len(inter) / len(union)"
   ]
  },
  {
   "cell_type": "code",
   "execution_count": 27,
   "metadata": {},
   "outputs": [
    {
     "data": {
      "image/png": "[encoded data removed]",
      "text/plain": [
       "<Figure size 432x288 with 1 Axes>"
      ]
     },
     "metadata": {
      "needs_background": "light"
     },
     "output_type": "display_data"
    }
   ],
   "source": [
    "plt.hist(jacs, bins=30, log=True)\n",
    "plt.title('Jaccard Coefficients of Random Terms (All Levels)')\n",
    "plt.xlabel('Jaccard Coefficient')\n",
    "plt.ylabel('Number of Pairs')\n",
    "plt.savefig('figures/mf/jaccard-all.png')"
   ]
  },
  {
   "cell_type": "code",
   "execution_count": 27,
   "metadata": {},
   "outputs": [],
   "source": [
    "samples = 500\n",
    "threshold = 10\n",
    "jac_levels = np.zeros((8, 500))\n",
    "for i in range(1,9):\n",
    "    common_i = []\n",
    "    for j in index_tree:\n",
    "        term = index_tree[j]\n",
    "        if term['level'] == i + 1 and len(term['gene_inds']) >= 10:\n",
    "            common_i += [j]\n",
    "    for j in range(samples):\n",
    "        t1 = common_i[np.random.randint(0,len(common_i))]\n",
    "        t2 = common_i[np.random.randint(0,len(common_i))]\n",
    "        if t2 == t1:\n",
    "            t2 = common_i[np.random.randint(0,len(common_i))]\n",
    "        g1s = set(index_tree[t1]['gene_inds'])\n",
    "        g2s = set(index_tree[t2]['gene_inds'])\n",
    "        union = g1s.union(g2s)\n",
    "        inter = g1s.intersection(g2s)\n",
    "        jac_levels[i-1,j] = len(inter) / len(union)"
   ]
  },
  {
   "cell_type": "code",
   "execution_count": 29,
   "metadata": {},
   "outputs": [
    {
     "data": {
      "image/png": "[encoded data removed]",
      "text/plain": [
       "<Figure size 432x288 with 1 Axes>"
      ]
     },
     "metadata": {
      "needs_background": "light"
     },
     "output_type": "display_data"
    }
   ],
   "source": [
    "for i in range(1,9):\n",
    "    js = jac_levels[i-1]\n",
    "    plt.clf()\n",
    "    plt.title(f'Jaccard Index - Level {i+1}')\n",
    "    plt.xlabel('Jaccard Index')\n",
    "    plt.ylabel('Number of Pairs')\n",
    "    plt.hist(js, log=True)\n",
    "    plt.savefig(f'figures/mf/jac-level-{i+1}.png')"
   ]
  },
  {
   "cell_type": "code",
   "execution_count": 27,
   "metadata": {},
   "outputs": [],
   "source": [
    "for i in index_tree:\n",
    "    index_tree[i]['gene_set'] = set(index_tree[i]['gene_inds'])"
   ]
  },
  {
   "cell_type": "code",
   "execution_count": 34,
   "metadata": {},
   "outputs": [
    {
     "name": "stdout",
     "output_type": "stream",
     "text": [
      "10%\n",
      "20%\n",
      "30%\n",
      "40%\n",
      "50%\n",
      "60%\n",
      "70%\n",
      "80%\n",
      "90%\n",
      "100%\n"
     ]
    }
   ],
   "source": [
    "n = len(useful_terms)\n",
    "jac_adj = np.zeros((n,n))\n",
    "op = int(n ** 2 / 100)\n",
    "c = 0\n",
    "for i in range(n):\n",
    "    for j in range(n):\n",
    "        c += 1\n",
    "        if c % (10 * op) == 0:\n",
    "            print(f'{int(c / op)}%')\n",
    "        \n",
    "        t1 = useful_terms[i]\n",
    "        t2 = useful_terms[j]\n",
    "        gs1 = index_tree[t1]['gene_set']\n",
    "        gs2 = index_tree[t2]['gene_set']\n",
    "        w = len(gs1.intersection(gs2)) / len(gs1.union(gs2)) \n",
    "        jac_adj[i,j] = w"
   ]
  },
  {
   "cell_type": "code",
   "execution_count": 49,
   "metadata": {},
   "outputs": [],
   "source": [
    "from sklearn.cluster import SpectralClustering\n",
    "from sklearn.cluster import SpectralCoclustering\n",
    "from sklearn.cluster import SpectralBiclustering"
   ]
  },
  {
   "cell_type": "code",
   "execution_count": 43,
   "metadata": {},
   "outputs": [
    {
     "data": {
      "text/plain": [
       "778"
      ]
     },
     "execution_count": 43,
     "metadata": {},
     "output_type": "execute_result"
    }
   ],
   "source": [
    "len(useful_terms)"
   ]
  },
  {
   "cell_type": "code",
   "execution_count": 50,
   "metadata": {},
   "outputs": [
    {
     "data": {
      "text/plain": [
       "13270"
      ]
     },
     "execution_count": 50,
     "metadata": {},
     "output_type": "execute_result"
    }
   ],
   "source": [
    "len(go_genes)"
   ]
  },
  {
   "cell_type": "code",
   "execution_count": 52,
   "metadata": {},
   "outputs": [
    {
     "data": {
      "text/plain": [
       "'44M2.3'"
      ]
     },
     "execution_count": 52,
     "metadata": {},
     "output_type": "execute_result"
    }
   ],
   "source": [
    "go_genes[0]"
   ]
  },
  {
   "cell_type": "code",
   "execution_count": 54,
   "metadata": {},
   "outputs": [
    {
     "data": {
      "text/plain": [
       "{'parents': [1626],\n",
       " 'children': [],\n",
       " 'visited': True,\n",
       " 'level': 10,\n",
       " 'ancestors': {1,\n",
       "  439,\n",
       "  1518,\n",
       "  1626,\n",
       "  1841,\n",
       "  2513,\n",
       "  4114,\n",
       "  4139,\n",
       "  4140,\n",
       "  4141,\n",
       "  6732,\n",
       "  9326},\n",
       " 'gene_inds': [8333, 8334],\n",
       " 'common': False,\n",
       " 'useful': False,\n",
       " 'gene_set': {8333, 8334}}"
      ]
     },
     "execution_count": 54,
     "metadata": {},
     "output_type": "execute_result"
    }
   ],
   "source": [
    "index_tree[1]"
   ]
  },
  {
   "cell_type": "code",
   "execution_count": 58,
   "metadata": {},
   "outputs": [
    {
     "data": {
      "text/plain": [
       "13270"
      ]
     },
     "execution_count": 58,
     "metadata": {},
     "output_type": "execute_result"
    }
   ],
   "source": [
    "len(go_genes)"
   ]
  },
  {
   "cell_type": "code",
   "execution_count": 59,
   "metadata": {},
   "outputs": [
    {
     "data": {
      "text/plain": [
       "778"
      ]
     },
     "execution_count": 59,
     "metadata": {},
     "output_type": "execute_result"
    }
   ],
   "source": [
    "len(useful_terms)"
   ]
  },
  {
   "cell_type": "code",
   "execution_count": 60,
   "metadata": {},
   "outputs": [],
   "source": [
    "import scipy.sparse as sp"
   ]
  },
  {
   "cell_type": "code",
   "execution_count": 102,
   "metadata": {},
   "outputs": [],
   "source": [
    "rows = []\n",
    "cols = [] \n",
    "for i in range(len(common_terms)):\n",
    "    term = common_terms[i]\n",
    "    row_idx = i\n",
    "    genes = list(index_tree[term]['gene_set'])\n",
    "    rows += [row_idx] * len(genes)\n",
    "    cols += genes"
   ]
  },
  {
   "cell_type": "code",
   "execution_count": 103,
   "metadata": {},
   "outputs": [],
   "source": [
    "entries = [1] * len(cols)"
   ]
  },
  {
   "cell_type": "code",
   "execution_count": 104,
   "metadata": {},
   "outputs": [],
   "source": []
  },
  {
   "cell_type": "code",
   "execution_count": 107,
   "metadata": {},
   "outputs": [],
   "source": []
  },
  {
   "cell_type": "code",
   "execution_count": 111,
   "metadata": {},
   "outputs": [
    {
     "data": {
      "text/plain": [
       "2666"
      ]
     },
     "execution_count": 111,
     "metadata": {},
     "output_type": "execute_result"
    }
   ],
   "source": [
    "np.sum(np.sum(anno, axis=0) == 0)"
   ]
  },
  {
   "cell_type": "code",
   "execution_count": 91,
   "metadata": {},
   "outputs": [
    {
     "data": {
      "text/plain": [
       "0"
      ]
     },
     "execution_count": 91,
     "metadata": {},
     "output_type": "execute_result"
    }
   ],
   "source": [
    "np.min(anno)"
   ]
  },
  {
   "cell_type": "code",
   "execution_count": 115,
   "metadata": {},
   "outputs": [],
   "source": [
    "uses = [0] * (len(go_genes)+1)\n",
    "for c in cols:\n",
    "    uses[c] += 1"
   ]
  },
  {
   "cell_type": "code",
   "execution_count": 116,
   "metadata": {},
   "outputs": [],
   "source": [
    "pointer = 0\n",
    "cur = 0\n",
    "shift = [0] * len(uses)\n",
    "while pointer < len(uses):\n",
    "    if uses[pointer] == 0:\n",
    "        shift[pointer] = -1\n",
    "    else:\n",
    "        shift[pointer] = cur\n",
    "        cur += 1\n",
    "    pointer += 1"
   ]
  },
  {
   "cell_type": "code",
   "execution_count": 119,
   "metadata": {},
   "outputs": [],
   "source": [
    "for i in range(len(cols)):\n",
    "    cols[i] = shift[cols[i]]"
   ]
  },
  {
   "cell_type": "code",
   "execution_count": 122,
   "metadata": {},
   "outputs": [],
   "source": [
    "anno = sp.csr_matrix((entries, (rows, cols)), dtype=int)"
   ]
  },
  {
   "cell_type": "code",
   "execution_count": 124,
   "metadata": {},
   "outputs": [],
   "source": [
    "scc = SpectralCoclustering(n_clusters=8, svd_method='arpack')"
   ]
  },
  {
   "cell_type": "code",
   "execution_count": 125,
   "metadata": {},
   "outputs": [
    {
     "data": {
      "text/plain": [
       "SpectralCoclustering(n_clusters=8, svd_method='arpack')"
      ]
     },
     "execution_count": 125,
     "metadata": {},
     "output_type": "execute_result"
    }
   ],
   "source": [
    "scc.fit(anno)"
   ]
  },
  {
   "cell_type": "code",
   "execution_count": 129,
   "metadata": {},
   "outputs": [
    {
     "data": {
      "text/plain": [
       "array([3, 3, 1, 3, 3, 3, 3, 1, 3, 3, 1, 3, 1, 7, 2, 5, 4, 2, 4, 4, 4, 4,\n",
       "       4, 3, 3, 3, 3, 7, 1, 6, 1, 1, 7, 7, 1, 7, 3, 7, 1, 1, 7, 7, 1, 7,\n",
       "       7, 7, 7, 7, 1, 4, 4, 1, 1, 7, 1, 4, 4, 2, 3, 1, 1, 7, 3, 3, 4, 3,\n",
       "       4, 1, 1, 1, 1, 7, 4, 4, 4, 4, 4, 1, 1, 1, 1, 3, 2, 4, 7, 7, 7, 1,\n",
       "       1, 7, 7, 7, 7, 7, 7, 3, 6, 3, 1, 1, 1, 1, 1, 1, 1, 1, 1, 1, 1, 4,\n",
       "       7, 7, 7, 7, 7, 7, 7, 7, 7, 7, 7, 7, 7, 7, 7, 6, 3, 3, 3, 1, 7, 7,\n",
       "       1, 1, 7, 3, 7, 7, 4, 4, 7, 7, 7, 7, 7, 1, 1, 7, 7, 3, 7, 7, 7, 7,\n",
       "       7, 1, 1, 3, 1, 7, 7, 7, 7, 7, 7, 3, 7, 1, 1, 1, 1, 1, 1, 1, 3, 1,\n",
       "       7, 7, 7, 7, 7, 7, 1, 4, 4, 1, 0, 7, 7, 1, 7, 3, 4, 3, 7, 7, 7, 7,\n",
       "       7, 7, 7, 7, 7, 7, 7, 7, 7, 7, 1, 7, 7, 7, 7, 1, 3, 3, 1, 3, 3, 1,\n",
       "       2, 7, 7, 1, 1, 7, 1, 7, 1, 1, 4, 7, 1, 7, 7, 7, 7, 6, 6, 7, 7, 3,\n",
       "       7, 4, 3, 3, 1, 1, 3, 7, 7, 7, 7, 3, 1, 1, 1, 1, 7, 7, 7, 3, 6, 6,\n",
       "       3, 3, 3, 3, 4, 4, 1, 3, 3, 3, 3, 3, 1, 1, 1, 3, 6, 3, 1, 1, 6, 3,\n",
       "       3, 4, 1, 3, 3, 3, 3, 3, 1, 1, 1, 4, 1, 3, 6, 3, 6, 1, 1, 1, 4, 3,\n",
       "       1, 3, 4, 1, 7, 4, 1, 3, 3, 1, 1, 3, 1, 1, 4, 7, 3, 3, 1, 3, 1, 1,\n",
       "       3, 6, 3, 3, 1, 1, 3, 1, 6, 6, 6, 1, 1, 3, 6, 6, 6, 3, 3, 3, 3, 1,\n",
       "       4, 3, 1, 3, 3, 3, 3, 3, 3, 3, 6, 3, 3, 6, 4, 3, 3, 3, 3, 1, 1, 1,\n",
       "       1, 3, 3, 1, 3, 3, 1, 3, 0, 0, 1, 3, 6, 6, 3, 3, 3, 3, 1, 3, 3, 3,\n",
       "       0, 0, 1, 3, 3, 4, 1, 1, 3, 1, 1, 1, 1, 3, 1, 3, 3, 4, 4, 1, 1, 1,\n",
       "       3, 3, 3, 1, 3, 3, 3, 3, 1, 1, 3, 1, 3, 1, 3, 4, 3, 3, 1, 1, 7, 7,\n",
       "       3, 3, 1, 1, 3, 7, 3, 3, 3, 3, 4, 4, 1, 3, 4, 4, 3, 1, 1, 1, 7, 7,\n",
       "       1, 1, 4, 1, 1, 3, 4, 4, 1, 1, 1, 1, 1, 3, 3, 1, 1, 1, 7, 7, 1, 1,\n",
       "       1, 7, 7, 3, 1, 3, 3, 1, 1, 3, 1, 3, 1, 2, 3, 1, 7, 3, 3, 3, 1, 1,\n",
       "       1, 1, 1, 6, 3, 3, 3, 1, 1, 1, 1, 1, 3, 6, 6, 3, 1, 1, 1, 1, 1, 7,\n",
       "       7, 4, 1, 7, 2, 1, 1, 7, 7, 7, 7, 7, 7, 7, 7, 7, 7, 1, 7, 4, 7, 7,\n",
       "       4, 7, 7, 7, 7, 7, 7, 1, 4, 4, 4, 1, 1, 3, 1, 1, 7, 3, 3, 1, 1, 1,\n",
       "       7, 1, 1, 1, 7, 7, 7, 7, 4, 1, 1, 1, 7, 7, 1, 1, 2, 2, 2, 2, 2, 2,\n",
       "       2, 2, 2, 2, 2, 2, 2, 2, 2, 2, 4, 4, 2, 2, 5, 2, 2, 7, 2, 5, 2, 2,\n",
       "       2, 2, 5, 2, 5, 5, 5, 5, 5, 4, 2, 4, 4, 4, 4, 4, 4, 4, 5, 2, 5, 4,\n",
       "       4, 5, 5, 5, 2, 2, 2, 4, 4, 4, 2, 4, 2, 2, 2, 5, 2, 2, 4, 4, 4, 4,\n",
       "       2, 1, 7, 7, 7, 7, 3, 3, 3, 7, 7, 7, 7, 7, 1, 7, 7, 7, 3, 3, 3, 0,\n",
       "       3, 3, 4, 3, 3, 6, 0, 3, 1, 1, 3, 1, 1, 1, 3, 1, 3, 1, 1, 4, 4, 1,\n",
       "       3, 1, 1, 1, 1, 1, 7, 4, 4, 1, 7, 1, 1, 7, 3, 1, 0, 1, 1, 1, 1, 4,\n",
       "       4, 2, 4, 7, 7, 4, 3, 1, 1, 3, 4, 1, 1, 6, 4, 1, 1, 6, 3, 3, 3, 3,\n",
       "       6, 1, 1, 3, 1, 4, 1, 1, 2, 1, 3, 6, 3, 1, 4, 1, 1, 1, 1, 1, 5, 3,\n",
       "       1, 7, 7, 1, 4, 1, 4, 4, 3, 3, 3, 1, 2, 5, 2, 4, 2, 4, 2, 2, 2, 5,\n",
       "       2, 7, 4, 1, 1, 4, 1, 1, 4, 4, 3, 3, 3, 1, 3, 1, 4, 3, 1, 1, 1, 1,\n",
       "       1, 1, 3, 7, 3, 7], dtype=int32)"
      ]
     },
     "execution_count": 129,
     "metadata": {},
     "output_type": "execute_result"
    }
   ],
   "source": [
    "scc.row_labels_"
   ]
  },
  {
   "cell_type": "code",
   "execution_count": 130,
   "metadata": {},
   "outputs": [],
   "source": [
    "ls = scc.row_labels_"
   ]
  },
  {
   "cell_type": "code",
   "execution_count": 131,
   "metadata": {},
   "outputs": [
    {
     "name": "stdout",
     "output_type": "stream",
     "text": [
      "8\n",
      "250\n",
      "54\n",
      "188\n",
      "97\n",
      "18\n",
      "30\n",
      "175\n"
     ]
    }
   ],
   "source": [
    "for i in range(8):\n",
    "    print(sum(ls == i))"
   ]
  },
  {
   "cell_type": "code",
   "execution_count": null,
   "metadata": {},
   "outputs": [],
   "source": []
  }
 ],
 "metadata": {
  "kernelspec": {
   "display_name": "Python 3",
   "language": "python",
   "name": "python3"
  },
  "language_info": {
   "codemirror_mode": {
    "name": "ipython",
    "version": 3
   },
   "file_extension": ".py",
   "mimetype": "text/x-python",
   "name": "python",
   "nbconvert_exporter": "python",
   "pygments_lexer": "ipython3",
   "version": "3.7.8"
  }
 },
 "nbformat": 4,
 "nbformat_minor": 4
}
