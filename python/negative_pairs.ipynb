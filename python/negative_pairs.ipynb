{
 "cells": [
  {
   "cell_type": "code",
   "execution_count": 62,
   "metadata": {},
   "outputs": [],
   "source": [
    "pair_fp = '../data/yeast_neg.mitab'\n",
    "pair_file = open(pair_fp)\n",
    "genes_fp = '../data/networks/yeast/yeast_string_genes.txt'\n",
    "gene_file = open(genes_fp)\n",
    "output_fp = '../data/negatives/yeast.txt'\n",
    "output_file = open(output_fp, 'w')"
   ]
  },
  {
   "cell_type": "code",
   "execution_count": 63,
   "metadata": {},
   "outputs": [],
   "source": [
    "# load in the set of proteins in the networks\n",
    "gene_set = {}\n",
    "i = 1\n",
    "for gene in gene_file.readlines():\n",
    "    gene = gene.split('\\n')[0]\n",
    "    gene_set[gene] = i\n",
    "    i += 1\n",
    "gene_file.close()"
   ]
  },
  {
   "cell_type": "code",
   "execution_count": 64,
   "metadata": {},
   "outputs": [],
   "source": [
    "# find all negative pairs with both ends in the networks\n",
    "\n",
    "pairs = []\n",
    "for line in pair_file.readlines():\n",
    "    s = line\n",
    "    entries = line.split('\\t')\n",
    "    \n",
    "    id_str_1 = entries[2] # list of identifiers for protein 1\n",
    "    id_str_2 = entries[3] # list of identifiers for protein 2\n",
    "    confidence = entries[14] # actually a shortest path\n",
    "    negative = entries[34] # check if negative reaction (always \"true\\n\")\n",
    "    \n",
    "    id_set_1 = id_str_1.split('|')\n",
    "    id_set_2 = id_str_2.split('|')\n",
    "    \n",
    "    valid_ids_1 = list(filter(lambda i: i[:9] == 'uniprotkb', id_set_1))\n",
    "    valid_ids_2 = list(filter(lambda i: i[:9] == 'uniprotkb', id_set_2))\n",
    "    \n",
    "    valid_ids_1 = list(map(lambda i: i[10:], valid_ids_1))\n",
    "    valid_ids_2 = list(map(lambda i: i[10:], valid_ids_2))\n",
    "    \n",
    "    valid_ids_1 = list(map(lambda i: i[:i.index('(')], valid_ids_1))\n",
    "    valid_ids_2 = list(map(lambda i: i[:i.index('(')], valid_ids_2))\n",
    "    \n",
    "    included_ids_1 = list(filter(lambda i: i in gene_set, valid_ids_1))\n",
    "    included_ids_2 = list(filter(lambda i: i in gene_set, valid_ids_2))\n",
    "    if len(included_ids_1) > 0 and len(included_ids_2) > 0:\n",
    "        pairs += [[included_ids_1[0], included_ids_2[0], confidence, negative]]\n",
    "\n",
    "pair_file.close()"
   ]
  },
  {
   "cell_type": "code",
   "execution_count": 66,
   "metadata": {},
   "outputs": [],
   "source": [
    "# figure out protein indices\n",
    "\n",
    "indexed_pairs = []\n",
    "for pair in pairs:\n",
    "    [id_1, id_2] = pair[:2]\n",
    "    index_1 = gene_set[id_1]\n",
    "    index_2 = gene_set[id_2]\n",
    "    indexed_pairs += [[index_1, index_2]]"
   ]
  },
  {
   "cell_type": "code",
   "execution_count": 70,
   "metadata": {},
   "outputs": [],
   "source": [
    "# write pairs to file\n",
    "\n",
    "for pair in indexed_pairs:\n",
    "    output_file.write(f'{pair[0]}\\t{pair[1]}\\n')\n",
    "output_file.close()"
   ]
  },
  {
   "cell_type": "code",
   "execution_count": null,
   "metadata": {},
   "outputs": [],
   "source": []
  },
  {
   "cell_type": "code",
   "execution_count": null,
   "metadata": {},
   "outputs": [],
   "source": []
  },
  {
   "cell_type": "code",
   "execution_count": null,
   "metadata": {},
   "outputs": [],
   "source": []
  },
  {
   "cell_type": "code",
   "execution_count": null,
   "metadata": {},
   "outputs": [],
   "source": []
  },
  {
   "cell_type": "code",
   "execution_count": null,
   "metadata": {},
   "outputs": [],
   "source": []
  },
  {
   "cell_type": "code",
   "execution_count": null,
   "metadata": {},
   "outputs": [],
   "source": []
  }
 ],
 "metadata": {
  "kernelspec": {
   "display_name": "Python 3",
   "language": "python",
   "name": "python3"
  },
  "language_info": {
   "codemirror_mode": {
    "name": "ipython",
    "version": 3
   },
   "file_extension": ".py",
   "mimetype": "text/x-python",
   "name": "python",
   "nbconvert_exporter": "python",
   "pygments_lexer": "ipython3",
   "version": "3.7.8"
  }
 },
 "nbformat": 4,
 "nbformat_minor": 4
}
