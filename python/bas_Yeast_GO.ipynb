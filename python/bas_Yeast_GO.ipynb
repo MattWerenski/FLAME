{
 "cells": [
  {
   "cell_type": "markdown",
   "metadata": {},
   "source": [
    "## List of Files to Generate\n",
    " 1. go_yeast_ref_xx_adjacency.txt\n",
    " 2. go_yeast_ref_xx_terms.txt\n",
    " 3. go_yeast_ref_genes.txt - (done)\n",
    " 4. graph/go_xx.links - (shared so don't need to re-create bu need same indexing)\n",
    " 5. graph/go_xx.map - (shared so don't need to re-create but need same indexing)\n",
    " 6. graph/go_xx.terms - (shared so don't need to re-create but need same indexing)"
   ]
  },
  {
   "cell_type": "markdown",
   "metadata": {},
   "source": [
    "## Loading the set of genes"
   ]
  },
  {
   "cell_type": "code",
   "execution_count": 1,
   "metadata": {},
   "outputs": [],
   "source": [
    "gene_file = open('../data/networks/yeast/genes_for_yg.txt')\n",
    "all_genes = set()\n",
    "for gene in gene_file.readlines():\n",
    "    all_genes.add(gene.split('\\n')[0])\n",
    "gene_file.close()"
   ]
  },
  {
   "cell_type": "code",
   "execution_count": 2,
   "metadata": {},
   "outputs": [
    {
     "data": {
      "text/plain": [
       "5912"
      ]
     },
     "execution_count": 2,
     "metadata": {},
     "output_type": "execute_result"
    }
   ],
   "source": [
    "len(all_genes)"
   ]
  },
  {
   "cell_type": "code",
   "execution_count": 3,
   "metadata": {},
   "outputs": [],
   "source": [
    "ordered_genes = [None]\n",
    "gene_index = {}\n",
    "i = 1\n",
    "for gene in all_genes:\n",
    "    ordered_genes += [gene]\n",
    "    gene_index[gene] = i\n",
    "    i += 1"
   ]
  },
  {
   "cell_type": "code",
   "execution_count": 4,
   "metadata": {},
   "outputs": [],
   "source": [
    "# outputs the list of genes that we have annotations for\n",
    "output_loc = '../data/annotations/yeast/go_yeast_ref_genes.txt'\n",
    "output_file = open(output_loc, 'w')\n",
    "for i in range(1,len(ordered_genes)):\n",
    "    gene = ordered_genes[i]\n",
    "    output_file.write(f'{gene}\\n')\n",
    "output_file.close()"
   ]
  },
  {
   "cell_type": "markdown",
   "metadata": {},
   "source": [
    "## Creating data set"
   ]
  },
  {
   "cell_type": "code",
   "execution_count": 17,
   "metadata": {},
   "outputs": [],
   "source": [
    "ontology = 'mf' # 'bp' 'cc' 'mf'"
   ]
  },
  {
   "cell_type": "code",
   "execution_count": 18,
   "metadata": {},
   "outputs": [],
   "source": [
    "terms_file = open(f'../data/yeast_{ontology}_GO.csv', 'r')\n",
    "l = 0\n",
    "terms = []\n",
    "for line in terms_file.readlines():\n",
    "    l += 1\n",
    "    if l == 1:\n",
    "        continue\n",
    "    terms += [line.split('\\t')]\n",
    "terms_file.close()"
   ]
  },
  {
   "cell_type": "code",
   "execution_count": 19,
   "metadata": {},
   "outputs": [],
   "source": [
    "term_map = {}\n",
    "for term in terms:\n",
    "    [go_id, term_text, cpv, upv, num_anno, list_size, total_num_anno, pop_size, fdr, efp, genes] = term\n",
    "    genes = genes.split(', ')\n",
    "    genes[-1] = genes[-1].split()[0] # drops the trailing \\n\n",
    "    term_map[go_id] = genes\n",
    "    "
   ]
  },
  {
   "cell_type": "code",
   "execution_count": 20,
   "metadata": {},
   "outputs": [],
   "source": [
    "term_to_index = {}\n",
    "index_to_term = [None]\n",
    "i = 1\n",
    "for term in term_map:\n",
    "    term_to_index[term] = i\n",
    "    index_to_term += [term]\n",
    "    i += 1"
   ]
  },
  {
   "cell_type": "code",
   "execution_count": 21,
   "metadata": {},
   "outputs": [],
   "source": [
    "# outputs the list of GO terms\n",
    "output_loc = f'../data/annotations/yeast/go_yeast_ref_{ontology}_terms.txt'\n",
    "output_file = open(output_loc, 'w')\n",
    "for i in range(1, len(index_to_term)):\n",
    "    term = index_to_term[i]\n",
    "    output_file.write(f'{term}\\n')\n",
    "output_file.close()"
   ]
  },
  {
   "cell_type": "code",
   "execution_count": 22,
   "metadata": {},
   "outputs": [],
   "source": [
    "# outputs the map of GO terms to the genes that have them\n",
    "output_loc = f'../data/annotations/yeast/go_yeast_ref_{ontology}_adjacency.txt'\n",
    "output_file = open(output_loc, 'w')\n",
    "for term in term_map:\n",
    "    term_idx = term_to_index[term]\n",
    "    genes = term_map[term]\n",
    "    for gene in genes:\n",
    "        gene_idx = gene_index[gene]\n",
    "        output_file.write(f'{gene_idx}\\t{term_idx}\\n')\n",
    "output_file.close()"
   ]
  },
  {
   "cell_type": "code",
   "execution_count": 24,
   "metadata": {},
   "outputs": [],
   "source": []
  },
  {
   "cell_type": "code",
   "execution_count": null,
   "metadata": {},
   "outputs": [],
   "source": []
  },
  {
   "cell_type": "code",
   "execution_count": null,
   "metadata": {},
   "outputs": [],
   "source": []
  }
 ],
 "metadata": {
  "kernelspec": {
   "display_name": "Python 3",
   "language": "python",
   "name": "python3"
  },
  "language_info": {
   "codemirror_mode": {
    "name": "ipython",
    "version": 3
   },
   "file_extension": ".py",
   "mimetype": "text/x-python",
   "name": "python",
   "nbconvert_exporter": "python",
   "pygments_lexer": "ipython3",
   "version": "3.7.8"
  }
 },
 "nbformat": 4,
 "nbformat_minor": 4
}
