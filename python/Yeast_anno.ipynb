{
 "cells": [
  {
   "cell_type": "code",
   "execution_count": 92,
   "metadata": {},
   "outputs": [],
   "source": [
    "# load in the list of genes\n",
    "\n",
    "gene_file = open('../data/networks/yeast/yeast_string_genes.txt')\n",
    "gene_forward = {}\n",
    "idx = 1 \n",
    "for line in gene_file.readlines():\n",
    "    gene = line.split()[0]\n",
    "    gene_forward[gene] = idx\n",
    "    idx += 1\n",
    "gene_file.close()"
   ]
  },
  {
   "cell_type": "code",
   "execution_count": 93,
   "metadata": {},
   "outputs": [],
   "source": [
    "# reads the database of annotations\n",
    "\n",
    "annotation_file = open('../data/yeast_annotation_db.gaf')\n",
    "entries = []\n",
    "for line in annotation_file.readlines():\n",
    "    # skip the meta data\n",
    "    if line[0] == '!':\n",
    "        continue\n",
    "    # split fields and drop the newline character\n",
    "    entries.append(line.split('\\t')[:-1]) \n",
    "annotation_file.close()"
   ]
  },
  {
   "cell_type": "code",
   "execution_count": 94,
   "metadata": {},
   "outputs": [],
   "source": [
    "# filters the annotations \n",
    "\n",
    "relevant_entries = []\n",
    "for entry in entries:\n",
    "    [db, db_obj_id, db_obj_sym, qual, go_id, \n",
    "     db_ref, ev_code, with_from, aspect, \n",
    "     db_obj_name, db_obj_syn, db_obj_type, \n",
    "     taxon, date, ass_by, anno_ext] = entry\n",
    "    # check form of evidence - experimental only\n",
    "    if ev_code not in ['EXP','IDA','IPI','IMP','IGI','IEP','HTP','HDP','HDA','HMP','HGI','HEP']:\n",
    "        continue\n",
    "        \n",
    "    # check if gene name is in the string gene set\n",
    "    names = [db_obj_id] + db_obj_syn.split('|')\n",
    "    name = False\n",
    "    for n in names:\n",
    "        if n in gene_set:\n",
    "            name = n\n",
    "            break\n",
    "    if name == False:\n",
    "        continue\n",
    "    \n",
    "    # check the qualifier\n",
    "    if qual == 'NOT' or qual == 'colocalizes_with':\n",
    "        continue\n",
    "    \n",
    "    # aspect is one of P (for bp) F (for mf) or C (for cc)\n",
    "    relevant_entries.append([name, go_id, aspect])"
   ]
  },
  {
   "cell_type": "code",
   "execution_count": 98,
   "metadata": {},
   "outputs": [],
   "source": [
    "# filters out duplicate annotations\n",
    "\n",
    "unique_entries = []\n",
    "included = set()\n",
    "for entry in relevant_entries:\n",
    "    [name, go_id, aspect] = entry\n",
    "    uq_id = f'{name}-{go_id}-{aspect}'\n",
    "    if uq_id in included:\n",
    "        continue\n",
    "    unique_entries.append(entry)\n",
    "    included.add(uq_id)"
   ]
  },
  {
   "cell_type": "code",
   "execution_count": 99,
   "metadata": {},
   "outputs": [],
   "source": [
    "# pulls out db entries according to their ontology\n",
    "\n",
    "bp_entries = [entry[:2] for entry in unique_entries if entry[2] == 'P']\n",
    "mf_entries = [entry[:2] for entry in unique_entries if entry[2] == 'F']\n",
    "cc_entries = [entry[:2] for entry in unique_entries if entry[2] == 'C']"
   ]
  },
  {
   "cell_type": "code",
   "execution_count": 100,
   "metadata": {},
   "outputs": [],
   "source": [
    "# creats term maps to efficiently go back and forth between indices\n",
    "\n",
    "def create_maps(ont_entries):\n",
    "    ont_forward = {}\n",
    "    ont_reverse = [None] # again for matlab's 1-indexing\n",
    "    idx = 1\n",
    "    for entry in ont_entries:\n",
    "        term = entry[1]\n",
    "        if term in ont_forward:\n",
    "            continue\n",
    "        ont_forward[term] = idx\n",
    "        ont_reverse.append(term)\n",
    "        idx += 1\n",
    "    return [ont_forward, ont_reverse]\n",
    "\n",
    "[bp_forward, bp_reverse] = create_maps(bp_entries)\n",
    "[mf_forward, mf_reverse] = create_maps(mf_entries)\n",
    "[cc_forward, cc_reverse] = create_maps(cc_entries)"
   ]
  },
  {
   "cell_type": "code",
   "execution_count": 101,
   "metadata": {},
   "outputs": [],
   "source": [
    "# creates the term files\n",
    "\n",
    "def create_term_file(ont, reverse):\n",
    "    term_file = open(f'../data/annotations/yeast/go_yeast_ref_{ont}_terms.txt', 'w')\n",
    "    for i in range(1, len(reverse)):\n",
    "        term_file.write(f'{reverse[i]}\\n')\n",
    "    term_file.close()\n",
    "\n",
    "create_term_file('bp', bp_reverse)\n",
    "create_term_file('mf', mf_reverse)\n",
    "create_term_file('cc', cc_reverse)"
   ]
  },
  {
   "cell_type": "code",
   "execution_count": 102,
   "metadata": {},
   "outputs": [],
   "source": [
    "# creates the adjacency files\n",
    "\n",
    "def create_adj_file(ont, ont_forward, gene_forward, entries):\n",
    "    adj_file = open(f'../data/annotations/yeast/go_yeast_ref_{ont}_adjacency.txt', 'w')\n",
    "    for entry in entries:\n",
    "        [gene, go_term] = entry\n",
    "        gene_idx = gene_forward[gene]\n",
    "        go_idx = ont_forward[go_term]\n",
    "        adj_file.write(f'{gene_idx}\\t{go_idx}\\n')\n",
    "    adj_file.close()\n",
    "    \n",
    "create_adj_file('bp', bp_forward, gene_forward, bp_entries)\n",
    "create_adj_file('mf', mf_forward, gene_forward, mf_entries)\n",
    "create_adj_file('cc', cc_forward, gene_forward, cc_entries)"
   ]
  },
  {
   "cell_type": "code",
   "execution_count": 106,
   "metadata": {},
   "outputs": [],
   "source": [
    "# now we test completeness on bp\n",
    "\n",
    "bp_adj = open('../data/annotations/yeast/go_yeast_ref_bp_adjacency.txt')\n",
    "uses = {}\n",
    "for line in bp_adj.readlines():\n",
    "    pair = line.split()\n",
    "    term = pair[1]\n",
    "    if term in uses:\n",
    "        uses[term] += 1\n",
    "    else:\n",
    "        uses[term] = 1\n",
    "bp_adj.close()"
   ]
  },
  {
   "cell_type": "code",
   "execution_count": 108,
   "metadata": {},
   "outputs": [],
   "source": [
    "dist = list(uses.values())"
   ]
  },
  {
   "cell_type": "code",
   "execution_count": 110,
   "metadata": {},
   "outputs": [],
   "source": [
    "import matplotlib.pyplot as plt"
   ]
  },
  {
   "cell_type": "code",
   "execution_count": null,
   "metadata": {},
   "outputs": [],
   "source": []
  },
  {
   "cell_type": "code",
   "execution_count": null,
   "metadata": {},
   "outputs": [],
   "source": []
  },
  {
   "cell_type": "code",
   "execution_count": null,
   "metadata": {},
   "outputs": [],
   "source": []
  }
 ],
 "metadata": {
  "kernelspec": {
   "display_name": "Python 3",
   "language": "python",
   "name": "python3"
  },
  "language_info": {
   "codemirror_mode": {
    "name": "ipython",
    "version": 3
   },
   "file_extension": ".py",
   "mimetype": "text/x-python",
   "name": "python",
   "nbconvert_exporter": "python",
   "pygments_lexer": "ipython3",
   "version": "3.7.8"
  }
 },
 "nbformat": 4,
 "nbformat_minor": 4
}
